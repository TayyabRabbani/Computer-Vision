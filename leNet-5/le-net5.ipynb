{
 "cells": [
  {
   "cell_type": "code",
   "execution_count": 1,
   "id": "c820322e",
   "metadata": {
    "execution": {
     "iopub.execute_input": "2025-07-17T17:22:31.672562Z",
     "iopub.status.busy": "2025-07-17T17:22:31.672251Z",
     "iopub.status.idle": "2025-07-17T17:22:51.118414Z",
     "shell.execute_reply": "2025-07-17T17:22:51.117243Z"
    },
    "papermill": {
     "duration": 19.453501,
     "end_time": "2025-07-17T17:22:51.120671",
     "exception": false,
     "start_time": "2025-07-17T17:22:31.667170",
     "status": "completed"
    },
    "tags": []
   },
   "outputs": [
    {
     "name": "stderr",
     "output_type": "stream",
     "text": [
      "2025-07-17 17:22:33.396670: E external/local_xla/xla/stream_executor/cuda/cuda_fft.cc:477] Unable to register cuFFT factory: Attempting to register factory for plugin cuFFT when one has already been registered\n",
      "WARNING: All log messages before absl::InitializeLog() is called are written to STDERR\n",
      "E0000 00:00:1752772953.617162      13 cuda_dnn.cc:8310] Unable to register cuDNN factory: Attempting to register factory for plugin cuDNN when one has already been registered\n",
      "E0000 00:00:1752772953.687492      13 cuda_blas.cc:1418] Unable to register cuBLAS factory: Attempting to register factory for plugin cuBLAS when one has already been registered\n"
     ]
    }
   ],
   "source": [
    "import tensorflow as tf\n",
    "import matplotlib.pyplot as plt"
   ]
  },
  {
   "cell_type": "code",
   "execution_count": 2,
   "id": "975e982d",
   "metadata": {
    "execution": {
     "iopub.execute_input": "2025-07-17T17:22:51.129991Z",
     "iopub.status.busy": "2025-07-17T17:22:51.129310Z",
     "iopub.status.idle": "2025-07-17T17:22:52.892087Z",
     "shell.execute_reply": "2025-07-17T17:22:52.891055Z"
    },
    "papermill": {
     "duration": 1.767599,
     "end_time": "2025-07-17T17:22:52.893914",
     "exception": false,
     "start_time": "2025-07-17T17:22:51.126315",
     "status": "completed"
    },
    "tags": []
   },
   "outputs": [
    {
     "name": "stdout",
     "output_type": "stream",
     "text": [
      "Downloading data from https://storage.googleapis.com/tensorflow/tf-keras-datasets/mnist.npz\n",
      "\u001b[1m11490434/11490434\u001b[0m \u001b[32m━━━━━━━━━━━━━━━━━━━━\u001b[0m\u001b[37m\u001b[0m \u001b[1m1s\u001b[0m 0us/step\n"
     ]
    }
   ],
   "source": [
    "(x_train, y_train), (x_test, y_test) = tf.keras.datasets.mnist.load_data()\n",
    "x_train = x_train / 255.0\n",
    "x_test = x_test / 255.0"
   ]
  },
  {
   "cell_type": "code",
   "execution_count": 3,
   "id": "017df9c6",
   "metadata": {
    "execution": {
     "iopub.execute_input": "2025-07-17T17:22:52.900965Z",
     "iopub.status.busy": "2025-07-17T17:22:52.900666Z",
     "iopub.status.idle": "2025-07-17T17:22:53.121558Z",
     "shell.execute_reply": "2025-07-17T17:22:53.120425Z"
    },
    "papermill": {
     "duration": 0.226065,
     "end_time": "2025-07-17T17:22:53.123138",
     "exception": false,
     "start_time": "2025-07-17T17:22:52.897073",
     "status": "completed"
    },
    "tags": []
   },
   "outputs": [
    {
     "data": {
      "image/png": "[encoded data removed]",
      "text/plain": [
       "<Figure size 640x480 with 1 Axes>"
      ]
     },
     "metadata": {},
     "output_type": "display_data"
    }
   ],
   "source": [
    "plt.imshow(x_train[7], cmap=\"binary\")\n",
    "plt.title(f\"Label: {y_train[0]}\")\n",
    "plt.axis('off')\n",
    "plt.show()"
   ]
  },
  {
   "cell_type": "code",
   "execution_count": 4,
   "id": "53389b42",
   "metadata": {
    "execution": {
     "iopub.execute_input": "2025-07-17T17:22:53.130559Z",
     "iopub.status.busy": "2025-07-17T17:22:53.130238Z",
     "iopub.status.idle": "2025-07-17T17:22:53.250689Z",
     "shell.execute_reply": "2025-07-17T17:22:53.249723Z"
    },
    "papermill": {
     "duration": 0.126115,
     "end_time": "2025-07-17T17:22:53.252366",
     "exception": false,
     "start_time": "2025-07-17T17:22:53.126251",
     "status": "completed"
    },
    "tags": []
   },
   "outputs": [
    {
     "name": "stderr",
     "output_type": "stream",
     "text": [
      "/usr/local/lib/python3.11/dist-packages/keras/src/layers/convolutional/base_conv.py:107: UserWarning: Do not pass an `input_shape`/`input_dim` argument to a layer. When using Sequential models, prefer using an `Input(shape)` object as the first layer in the model instead.\n",
      "  super().__init__(activity_regularizer=activity_regularizer, **kwargs)\n",
      "2025-07-17 17:22:53.147428: E external/local_xla/xla/stream_executor/cuda/cuda_driver.cc:152] failed call to cuInit: INTERNAL: CUDA error: Failed call to cuInit: UNKNOWN ERROR (303)\n"
     ]
    }
   ],
   "source": [
    "# building the structure\n",
    "model = tf.keras.Sequential([\n",
    "\n",
    "    tf.keras.layers.Conv2D(filters=6, kernel_size=(5, 5), padding=\"valid\",\n",
    "                           activation='relu',input_shape=(28, 28, 1)),\n",
    "    tf.keras.layers.AveragePooling2D(pool_size=(2, 2), padding=\"valid\"),\n",
    "\n",
    "\n",
    "    tf.keras.layers.Conv2D(filters=16, kernel_size=(5, 5), padding=\"valid\",\n",
    "                           activation='relu'),\n",
    "    tf.keras.layers.AveragePooling2D(pool_size=(2, 2), padding=\"valid\"),\n",
    "\n",
    "\n",
    "    tf.keras.layers.Conv2D(filters=120, kernel_size=(5, 5), padding=\"same\",\n",
    "                           activation='relu'),\n",
    "\n",
    "    tf.keras.layers.Flatten(),\n",
    "    tf.keras.layers.Dense(\n",
    "        84, kernel_initializer=\"he_normal\", activation=\"relu\"),\n",
    "    tf.keras.layers.Dense(10,activation=\"softmax\")\n",
    "])"
   ]
  },
  {
   "cell_type": "code",
   "execution_count": 5,
   "id": "0402d004",
   "metadata": {
    "execution": {
     "iopub.execute_input": "2025-07-17T17:22:53.260637Z",
     "iopub.status.busy": "2025-07-17T17:22:53.259601Z",
     "iopub.status.idle": "2025-07-17T17:27:47.956290Z",
     "shell.execute_reply": "2025-07-17T17:27:47.955226Z"
    },
    "papermill": {
     "duration": 294.702282,
     "end_time": "2025-07-17T17:27:47.957918",
     "exception": false,
     "start_time": "2025-07-17T17:22:53.255636",
     "status": "completed"
    },
    "tags": []
   },
   "outputs": [
    {
     "name": "stdout",
     "output_type": "stream",
     "text": [
      "Epoch 1/20\n",
      "\u001b[1m469/469\u001b[0m \u001b[32m━━━━━━━━━━━━━━━━━━━━\u001b[0m\u001b[37m\u001b[0m \u001b[1m18s\u001b[0m 32ms/step - accuracy: 0.7986 - loss: 0.6438 - val_accuracy: 0.9705 - val_loss: 0.0975\n",
      "Epoch 2/20\n",
      "\u001b[1m469/469\u001b[0m \u001b[32m━━━━━━━━━━━━━━━━━━━━\u001b[0m\u001b[37m\u001b[0m \u001b[1m14s\u001b[0m 30ms/step - accuracy: 0.9700 - loss: 0.0993 - val_accuracy: 0.9798 - val_loss: 0.0654\n",
      "Epoch 3/20\n",
      "\u001b[1m469/469\u001b[0m \u001b[32m━━━━━━━━━━━━━━━━━━━━\u001b[0m\u001b[37m\u001b[0m \u001b[1m15s\u001b[0m 31ms/step - accuracy: 0.9800 - loss: 0.0668 - val_accuracy: 0.9837 - val_loss: 0.0488\n",
      "Epoch 4/20\n",
      "\u001b[1m469/469\u001b[0m \u001b[32m━━━━━━━━━━━━━━━━━━━━\u001b[0m\u001b[37m\u001b[0m \u001b[1m15s\u001b[0m 31ms/step - accuracy: 0.9848 - loss: 0.0480 - val_accuracy: 0.9861 - val_loss: 0.0423\n",
      "Epoch 5/20\n",
      "\u001b[1m469/469\u001b[0m \u001b[32m━━━━━━━━━━━━━━━━━━━━\u001b[0m\u001b[37m\u001b[0m \u001b[1m14s\u001b[0m 31ms/step - accuracy: 0.9875 - loss: 0.0403 - val_accuracy: 0.9876 - val_loss: 0.0371\n",
      "Epoch 6/20\n",
      "\u001b[1m469/469\u001b[0m \u001b[32m━━━━━━━━━━━━━━━━━━━━\u001b[0m\u001b[37m\u001b[0m \u001b[1m15s\u001b[0m 31ms/step - accuracy: 0.9906 - loss: 0.0308 - val_accuracy: 0.9883 - val_loss: 0.0342\n",
      "Epoch 7/20\n",
      "\u001b[1m469/469\u001b[0m \u001b[32m━━━━━━━━━━━━━━━━━━━━\u001b[0m\u001b[37m\u001b[0m \u001b[1m14s\u001b[0m 30ms/step - accuracy: 0.9927 - loss: 0.0234 - val_accuracy: 0.9883 - val_loss: 0.0383\n",
      "Epoch 8/20\n",
      "\u001b[1m469/469\u001b[0m \u001b[32m━━━━━━━━━━━━━━━━━━━━\u001b[0m\u001b[37m\u001b[0m \u001b[1m15s\u001b[0m 33ms/step - accuracy: 0.9928 - loss: 0.0229 - val_accuracy: 0.9884 - val_loss: 0.0364\n",
      "Epoch 9/20\n",
      "\u001b[1m469/469\u001b[0m \u001b[32m━━━━━━━━━━━━━━━━━━━━\u001b[0m\u001b[37m\u001b[0m \u001b[1m14s\u001b[0m 30ms/step - accuracy: 0.9938 - loss: 0.0183 - val_accuracy: 0.9902 - val_loss: 0.0327\n",
      "Epoch 10/20\n",
      "\u001b[1m469/469\u001b[0m \u001b[32m━━━━━━━━━━━━━━━━━━━━\u001b[0m\u001b[37m\u001b[0m \u001b[1m15s\u001b[0m 31ms/step - accuracy: 0.9946 - loss: 0.0172 - val_accuracy: 0.9876 - val_loss: 0.0425\n",
      "Epoch 11/20\n",
      "\u001b[1m469/469\u001b[0m \u001b[32m━━━━━━━━━━━━━━━━━━━━\u001b[0m\u001b[37m\u001b[0m \u001b[1m14s\u001b[0m 30ms/step - accuracy: 0.9950 - loss: 0.0145 - val_accuracy: 0.9905 - val_loss: 0.0318\n",
      "Epoch 12/20\n",
      "\u001b[1m469/469\u001b[0m \u001b[32m━━━━━━━━━━━━━━━━━━━━\u001b[0m\u001b[37m\u001b[0m \u001b[1m15s\u001b[0m 31ms/step - accuracy: 0.9959 - loss: 0.0118 - val_accuracy: 0.9895 - val_loss: 0.0383\n",
      "Epoch 13/20\n",
      "\u001b[1m469/469\u001b[0m \u001b[32m━━━━━━━━━━━━━━━━━━━━\u001b[0m\u001b[37m\u001b[0m \u001b[1m14s\u001b[0m 30ms/step - accuracy: 0.9961 - loss: 0.0126 - val_accuracy: 0.9889 - val_loss: 0.0400\n",
      "Epoch 14/20\n",
      "\u001b[1m469/469\u001b[0m \u001b[32m━━━━━━━━━━━━━━━━━━━━\u001b[0m\u001b[37m\u001b[0m \u001b[1m14s\u001b[0m 30ms/step - accuracy: 0.9967 - loss: 0.0109 - val_accuracy: 0.9903 - val_loss: 0.0349\n",
      "Epoch 15/20\n",
      "\u001b[1m469/469\u001b[0m \u001b[32m━━━━━━━━━━━━━━━━━━━━\u001b[0m\u001b[37m\u001b[0m \u001b[1m15s\u001b[0m 31ms/step - accuracy: 0.9970 - loss: 0.0090 - val_accuracy: 0.9903 - val_loss: 0.0347\n",
      "Epoch 16/20\n",
      "\u001b[1m469/469\u001b[0m \u001b[32m━━━━━━━━━━━━━━━━━━━━\u001b[0m\u001b[37m\u001b[0m \u001b[1m15s\u001b[0m 31ms/step - accuracy: 0.9973 - loss: 0.0079 - val_accuracy: 0.9903 - val_loss: 0.0376\n",
      "Epoch 17/20\n",
      "\u001b[1m469/469\u001b[0m \u001b[32m━━━━━━━━━━━━━━━━━━━━\u001b[0m\u001b[37m\u001b[0m \u001b[1m15s\u001b[0m 32ms/step - accuracy: 0.9971 - loss: 0.0084 - val_accuracy: 0.9911 - val_loss: 0.0329\n",
      "Epoch 18/20\n",
      "\u001b[1m469/469\u001b[0m \u001b[32m━━━━━━━━━━━━━━━━━━━━\u001b[0m\u001b[37m\u001b[0m \u001b[1m14s\u001b[0m 30ms/step - accuracy: 0.9974 - loss: 0.0074 - val_accuracy: 0.9898 - val_loss: 0.0354\n",
      "Epoch 19/20\n",
      "\u001b[1m469/469\u001b[0m \u001b[32m━━━━━━━━━━━━━━━━━━━━\u001b[0m\u001b[37m\u001b[0m \u001b[1m15s\u001b[0m 32ms/step - accuracy: 0.9982 - loss: 0.0060 - val_accuracy: 0.9907 - val_loss: 0.0376\n",
      "Epoch 20/20\n",
      "\u001b[1m469/469\u001b[0m \u001b[32m━━━━━━━━━━━━━━━━━━━━\u001b[0m\u001b[37m\u001b[0m \u001b[1m14s\u001b[0m 30ms/step - accuracy: 0.9975 - loss: 0.0067 - val_accuracy: 0.9895 - val_loss: 0.0385\n",
      "\u001b[1m313/313\u001b[0m \u001b[32m━━━━━━━━━━━━━━━━━━━━\u001b[0m\u001b[37m\u001b[0m \u001b[1m1s\u001b[0m 5ms/step - accuracy: 0.9876 - loss: 0.0479\n",
      "Test Loss: 0.03847411647439003\n",
      "Test accuracy: 0.9894999861717224\n"
     ]
    }
   ],
   "source": [
    "model.compile(loss=\"sparse_categorical_crossentropy\", optimizer=tf.keras.optimizers.Adam(), metrics=['accuracy'])\n",
    "\n",
    "model.fit(x_train, y_train, batch_size=128, epochs=20, verbose=1, validation_data=(x_test, y_test))\n",
    "\n",
    "score = model.evaluate(x_test, y_test)\n",
    "print('Test Loss:', score[0])\n",
    "print('Test accuracy:', score[1])"
   ]
  }
 ],
 "metadata": {
  "kaggle": {
   "accelerator": "none",
   "dataSources": [],
   "dockerImageVersionId": 31040,
   "isGpuEnabled": false,
   "isInternetEnabled": true,
   "language": "python",
   "sourceType": "notebook"
  },
  "kernelspec": {
   "display_name": "Python 3",
   "language": "python",
   "name": "python3"
  },
  "language_info": {
   "codemirror_mode": {
    "name": "ipython",
    "version": 3
   },
   "file_extension": ".py",
   "mimetype": "text/x-python",
   "name": "python",
   "nbconvert_exporter": "python",
   "pygments_lexer": "ipython3",
   "version": "3.11.11"
  },
  "papermill": {
   "default_parameters": {},
   "duration": 324.947746,
   "end_time": "2025-07-17T17:27:51.286085",
   "environment_variables": {},
   "exception": null,
   "input_path": "__notebook__.ipynb",
   "output_path": "__notebook__.ipynb",
   "parameters": {},
   "start_time": "2025-07-17T17:22:26.338339",
   "version": "2.6.0"
  }
 },
 "nbformat": 4,
 "nbformat_minor": 5
}
